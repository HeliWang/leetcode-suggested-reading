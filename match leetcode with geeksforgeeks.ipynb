{
 "metadata": {
  "name": "",
  "signature": "sha256:0cacce48cf8f36fa9b68d6797888e0c6c444dfa00278531ac47e3c9952628832"
 },
 "nbformat": 3,
 "nbformat_minor": 0,
 "worksheets": [
  {
   "cells": [
    {
     "cell_type": "code",
     "collapsed": false,
     "input": [
      "from pymongo import MongoClient\n",
      "import pymongo\n",
      "\n",
      "client = MongoClient('localhost', 27017)\n",
      "db = client.geekreader\n",
      "posts = db.posts\n",
      "leet_db = client.leet\n",
      "leets = leet_db.problems"
     ],
     "language": "python",
     "metadata": {},
     "outputs": [],
     "prompt_number": 26
    },
    {
     "cell_type": "code",
     "collapsed": false,
     "input": [
      "import heapq\n",
      "import codecs\n",
      "import datetime\n",
      "from subprocess import call\n",
      "\n",
      "import requests\n",
      "from lxml.html.clean import Cleaner\n",
      "import lxml.html"
     ],
     "language": "python",
     "metadata": {},
     "outputs": [],
     "prompt_number": 77
    },
    {
     "cell_type": "code",
     "collapsed": false,
     "input": [
      "import pymongo"
     ],
     "language": "python",
     "metadata": {},
     "outputs": [],
     "prompt_number": 87
    },
    {
     "cell_type": "code",
     "collapsed": false,
     "input": [
      "from IPython.core.display import HTML, display"
     ],
     "language": "python",
     "metadata": {},
     "outputs": [],
     "prompt_number": 58
    },
    {
     "cell_type": "code",
     "collapsed": false,
     "input": [
      "# write leetcode problems tp mongodb\n",
      "LEETCODE_SITE = \"https://leetcode.com\"\n",
      "\n",
      "def get_cookies():\n",
      "    \"\"\"\n",
      "    use username and password stored in settings.py to log into leetcode.com\n",
      "    note that you should definitely include settings.py to .gitignore\n",
      "    \"\"\"\n",
      "    username, password = \"secret@secret.com\", \"secret\"\n",
      "    login_url = \"https://leetcode.com/accounts/login/\"\n",
      "    s = requests.session()\n",
      "    r = s.get(login_url)\n",
      "\n",
      "    payload = {\n",
      "            'login':username,\n",
      "            'password':password,\n",
      "            'csrfmiddlewaretoken':r.cookies['csrftoken'],\n",
      "            }\n",
      "    header = {\n",
      "            'X-Request-With':'XMLHttpRequest',\n",
      "            'Connection':'Keep-Alive',\n",
      "            'Accept':'text/html, application/xhtml+xml, */*',\n",
      "            'User-Agent': 'Mozilla/5.0 (Windows NT 6.3; WOW64; Trident/7.0;rv:11.0) like Gecko',\n",
      "            'Accept-Encoding':'gzip, deflate',\n",
      "            'Referer':'https://leetcode.com/accounts/login/'\n",
      "            }\n",
      "    r = s.post(login_url, data=payload, headers=header)\n",
      "\n",
      "    return {'PHPSESSID': s.cookies['PHPSESSID'], 'csrftoken': s.cookies['csrftoken']}\n",
      "\n",
      "def replace_utf8_symbols(s):\n",
      "    \"\"\"\n",
      "    replace utf-8 symbols with ascii\n",
      "    \"\"\"\n",
      "    s = s.replace('\\\\u002D', '-').replace('\\\\u000D\\\\u000A', '\\n')\n",
      "    s = s.replace('\\\\u003D', '=').replace('\\\\u003C', '<').replace('\\\\u003E', '>').replace('\\\\u003B', ';')\n",
      "    s = s.replace('\\\\u0027', \"'\").replace('\\\\u0022', '\"')\n",
      "    return s\n",
      "\n",
      "def get_doc_root(url):\n",
      "    \"\"\"\n",
      "    get document root. use cookies to authenticate with the leetcode server.\n",
      "    \"\"\"\n",
      "    r = requests.get(url, cookies=cookies)\n",
      "    html = r.content\n",
      "    cleaner = Cleaner(page_structure=False)\n",
      "    cleaned_html = cleaner.clean_html(html)\n",
      "    root = lxml.html.fromstring(cleaned_html)\n",
      "    return root\n",
      "\n",
      "def write_to_solution_file(problem_num, problem_title, problem_url, level):\n",
      "    doc = {}\n",
      "    problem_root = get_doc_root(problem_url)\n",
      "    problem_ele = problem_root.xpath('//div[@class=\"question-content\"]')\n",
      "    if not problem_ele:\n",
      "        return\n",
      "    problem_desc = problem_root.xpath('//div[@class=\"question-content\"]//text()')\n",
      "\n",
      "    tags, similar_qs = [], []\n",
      "    \n",
      "    desc = []\n",
      "    for item in problem_desc:\n",
      "        if item.count('\\n') >= 2:\n",
      "            desc.append('\\n')\n",
      "        elif item == \"Show Tags\" in item:\n",
      "            desc.append(\"Tags:\")\n",
      "        elif item == \"Show Similar Problems\":\n",
      "            desc.append(\"Similar Problems:\")\n",
      "        else:\n",
      "            desc.append(item)\n",
      "\n",
      "    desc = desc[1:]\n",
      "    similar_qs_index = tag_index = len(desc)\n",
      "    if \"Tags:\" in desc:\n",
      "        tag_index = desc.index(\"Tags:\")\n",
      "    if \"Similar Problems:\" in desc:\n",
      "        similar_qs_index = desc.index(\"Similar Problems:\")\n",
      "\n",
      "    tags = [desc[i] for i in range(tag_index+1, similar_qs_index) if desc[i].strip()]\n",
      "    similar_qs = [item for item in desc[similar_qs_index+1:] if item.strip()]\n",
      "    doc[\"title\"] = problem_title\n",
      "    doc[\"num\"] = problem_num\n",
      "    doc[\"url\"] = problem_url\n",
      "    doc[\"level\"] = level\n",
      "    doc[\"tags\"] = tags\n",
      "    doc[\"similar\"] = similar_qs\n",
      "    doc[\"content\"] = lxml.html.tostring(problem_ele[0])\n",
      "    leets.insert(doc)\n",
      "    # display(HTML(lxml.html.tostring(problem_ele[0])))\n",
      "    \n",
      "    \n",
      "def getAllproblems(url, title = \"\"):\n",
      "    \"\"\"\n",
      "    generate a solution file and also write all questions to the solution file\n",
      "    \"\"\"\n",
      "    today_str = \"leetcode daily: \" + datetime.datetime.now().strftime(\"%B %d, %Y\")\n",
      "    title = title or today_str\n",
      "    problem_set_root = get_doc_root(url)\n",
      "    for tbl in problem_set_root.xpath('//table[@id=\"problemList\"]'):\n",
      "        for tr in tbl.xpath('.//tr'):\n",
      "            problems_nodes = tr.xpath('.//td')\n",
      "            problems = tr.xpath('.//td//text()')\n",
      "            problems = [item for item in problems if item.strip()]\n",
      "            if problems:\n",
      "                problem_num, problem_title, accept_rate,  level = problems\n",
      "                problem_url = LEETCODE_SITE + problems_nodes[2].xpath('.//a/@href')[0]\n",
      "                write_to_solution_file(problem_num, problem_title, problem_url, level)"
     ],
     "language": "python",
     "metadata": {},
     "outputs": [],
     "prompt_number": 67
    },
    {
     "cell_type": "code",
     "collapsed": false,
     "input": [
      "cookies = get_cookies()\n",
      "getAllproblems(\"https://leetcode.com/problemset/algorithms/\")"
     ],
     "language": "python",
     "metadata": {},
     "outputs": [],
     "prompt_number": 68
    },
    {
     "cell_type": "code",
     "collapsed": false,
     "input": [
      "# taken from http://stackoverflow.com/a/24129170/1062364\n",
      "import nltk, string\n",
      "from sklearn.feature_extraction.text import TfidfVectorizer\n",
      "\n",
      "stemmer = nltk.stem.porter.PorterStemmer()\n",
      "remove_punctuation_map = dict((ord(char), None) for char in string.punctuation)\n",
      "\n",
      "\n",
      "def stem_tokens(tokens):\n",
      "    return [stemmer.stem(item) for item in tokens]\n",
      "\n",
      "'''remove punctuation, lowercase, stem'''\n",
      "def normalize(text):\n",
      "    return stem_tokens(nltk.word_tokenize(text.lower().translate(remove_punctuation_map)))\n",
      "\n",
      "vectorizer = TfidfVectorizer(tokenizer=normalize, stop_words='english')\n",
      "\n",
      "def cosine_sim(text1, text2):\n",
      "    tfidf = vectorizer.fit_transform([text1, text2])\n",
      "    return ((tfidf * tfidf.T).A)[0,1]"
     ],
     "language": "python",
     "metadata": {},
     "outputs": [
      {
       "output_type": "stream",
       "stream": "stdout",
       "text": [
        "Find the Minimum length Unsorted Subarray, sorting which makes the complete array sorted\n",
        "1.0"
       ]
      },
      {
       "output_type": "stream",
       "stream": "stdout",
       "text": [
        "\n",
        "0.709297266606\n",
        "0.0\n",
        "0.579738671538\n"
       ]
      }
     ],
     "prompt_number": 66
    },
    {
     "cell_type": "code",
     "collapsed": false,
     "input": [
      "# you need a database with geeksforgeeks titles as well\n",
      "with codecs.open('similar_qs.md', 'w', 'utf-8') as f:\n",
      "    for leet_p in leets.find({}, {\"url\":1, \"title\":1, \"num\":1}, timeout=False).sort(\"_id\",pymongo.DESCENDING):\n",
      "        max_queue = []\n",
      "        heapq.heapify(max_queue)\n",
      "        for g_post in posts.find({}, {\"title\":1, \"source_url\":1}):\n",
      "            val = cosine_sim(leet_p[\"title\"], g_post[\"title\"])\n",
      "            if len(max_queue) > 2:\n",
      "                heapq.heappushpop(max_queue, (val, g_post[\"title\"], g_post[\"source_url\"]))\n",
      "            else:\n",
      "                heapq.heappush(max_queue, (val, g_post[\"title\"], g_post[\"source_url\"]))\n",
      "        f.write('- [' + leet_p[\"title\"] + \"](\" + leet_p[\"url\"] + \")(\" + leet_p[\"num\"] + \")  \\n    Related articles on geeksforgeeks:  \\n    \")\n",
      "        try:\n",
      "            f.write(\"  \\n    \".join('[' + item[1] + \"](\" + item[2] + \") (\" + str(item[0]) + \")\" for item in sorted(max_queue, reverse=True) if item[0] > 0))\n",
      "        except:\n",
      "            print max_queue\n",
      "        f.write('\\n')"
     ],
     "language": "python",
     "metadata": {},
     "outputs": [],
     "prompt_number": 89
    },
    {
     "cell_type": "code",
     "collapsed": false,
     "input": [
      "!pandoc similar_qs.md -o similar_qs.pdf"
     ],
     "language": "python",
     "metadata": {},
     "outputs": [],
     "prompt_number": 3
    },
    {
     "cell_type": "code",
     "collapsed": false,
     "input": [
      "!open similar_qs.pdf"
     ],
     "language": "python",
     "metadata": {},
     "outputs": [],
     "prompt_number": 4
    }
   ],
   "metadata": {}
  }
 ]
}